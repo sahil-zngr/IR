{
 "cells": [
  {
   "cell_type": "code",
   "execution_count": 1,
   "metadata": {},
   "outputs": [],
   "source": [
    "import os\n",
    "import string\n",
    "import math"
   ]
  },
  {
   "cell_type": "code",
   "execution_count": 2,
   "metadata": {},
   "outputs": [],
   "source": [
    "X_train = [] # an element of X is represented as (filename,text)\n",
    "Y_train = [] # an element of Y represents the newsgroup category of the corresponding X element\n",
    "count=0\n",
    "for category in os.listdir('20news-bydate/20news-bydate-train'):\n",
    "    for document in os.listdir('20news-bydate/20news-bydate-train/'+category):\n",
    "        with open('20news-bydate/20news-bydate-train/'+category+'/'+document, \"r\") as f:\n",
    "            try:\n",
    "                X_train.append((document,f.read()))\n",
    "                Y_train.append(category)\n",
    "            except:\n",
    "                count+=1"
   ]
  },
  {
   "cell_type": "code",
   "execution_count": 3,
   "metadata": {},
   "outputs": [],
   "source": [
    "X_test = [] # an element of X is represented as (filename,text)\n",
    "Y_test = [] # an element of Y represents the newsgroup category of the corresponding X element\n",
    "testcount=0\n",
    "for category in os.listdir('20news-bydate/20news-bydate-test'):\n",
    "    for document in os.listdir('20news-bydate/20news-bydate-test/'+category):\n",
    "        with open('20news-bydate/20news-bydate-test/'+category+'/'+document, \"r\") as f:\n",
    "            try:\n",
    "                X_test.append((document,f.read()))\n",
    "                Y_test.append(category)\n",
    "            except:\n",
    "                testcount+=1"
   ]
  },
  {
   "cell_type": "code",
   "execution_count": 4,
   "metadata": {},
   "outputs": [],
   "source": [
    "#stopwords\n",
    "f = open('en.stopword.txt','r',encoding=\"utf-8\")\n",
    "stopwords = f.read().split(\"\\n\")"
   ]
  },
  {
   "cell_type": "code",
   "execution_count": 5,
   "metadata": {},
   "outputs": [],
   "source": [
    "#vocab is unique words, term frequency\n",
    "vocab = {}\n",
    "for i in range(len(X_train)):\n",
    "    word_list = []\n",
    "    for word in X_train[i][1].split():\n",
    "        word_new  = word.strip(string.punctuation).lower()\n",
    "        if (len(word_new)>2)  and (word_new not in stopwords):  \n",
    "            if word_new in vocab:\n",
    "                vocab[word_new]+=1\n",
    "            else:\n",
    "                vocab[word_new]=1 "
   ]
  },
  {
   "cell_type": "code",
   "execution_count": 6,
   "metadata": {},
   "outputs": [],
   "source": [
    "#no of documents is certain class(Nc)\n",
    "docclasscount = {}\n",
    "for x in Y_train:\n",
    "    if x in docclasscount:\n",
    "        docclasscount[x]+=1\n",
    "    else:\n",
    "        docclasscount[x]=1"
   ]
  },
  {
   "cell_type": "code",
   "execution_count": 7,
   "metadata": {},
   "outputs": [],
   "source": [
    "N = len(Y_train)"
   ]
  },
  {
   "cell_type": "code",
   "execution_count": 8,
   "metadata": {},
   "outputs": [],
   "source": [
    "#prior probability of the each class\n",
    "prior = {}\n",
    "for x in docclasscount:\n",
    "    prior[x] = docclasscount[x]/N"
   ]
  },
  {
   "cell_type": "code",
   "execution_count": 9,
   "metadata": {},
   "outputs": [],
   "source": [
    "#textc has term frequency of each word in each class\n",
    "textc = {}\n",
    "classcount = {}\n",
    "for word in vocab:\n",
    "    textc[word] = {}\n",
    "    for x in set(Y_train):\n",
    "        textc[word][x] = 0\n",
    "        classcount[x] = 0"
   ]
  },
  {
   "cell_type": "code",
   "execution_count": 10,
   "metadata": {},
   "outputs": [],
   "source": [
    "#textc calculation\n",
    "for i in range(len(X_train)):\n",
    "    currclass = Y_train[i]\n",
    "    for word in X_train[i][1].split():\n",
    "        word_new  = word.strip(string.punctuation).lower()\n",
    "        if (len(word_new)>2)  and (word_new not in stopwords):\n",
    "            textc[word_new][currclass]+=1"
   ]
  },
  {
   "cell_type": "code",
   "execution_count": 11,
   "metadata": {},
   "outputs": [],
   "source": [
    "#classcount has count of all words in certain class documents \n",
    "for word in vocab:\n",
    "    for x in set(Y_train):\n",
    "        classcount[x] += textc[word][x]"
   ]
  },
  {
   "cell_type": "code",
   "execution_count": 12,
   "metadata": {},
   "outputs": [],
   "source": [
    "# conditinal probalilty calculation\n",
    "condprob = {}\n",
    "B = len(vocab)\n",
    "for word in vocab:\n",
    "    condprob[word] = {}\n",
    "    for x in set(Y_train):\n",
    "        condprob[word][x] = (textc[word][x]+1)/(classcount[x] + B)"
   ]
  },
  {
   "cell_type": "code",
   "execution_count": 13,
   "metadata": {},
   "outputs": [],
   "source": [
    "#Test dataset \n",
    "Y_pred=[]\n",
    "for i in range(len(X_test)):\n",
    "    word_list = []\n",
    "    for word in X_test[i][1].split():\n",
    "        word_new  = word.strip(string.punctuation).lower()\n",
    "        if (len(word_new)>2)  and (word_new not in stopwords):\n",
    "            word_list.append(word_new)\n",
    "            \n",
    "    score = {}\n",
    "    for x in set(Y_train):\n",
    "        score[x] = math.log(prior[x])\n",
    "    \n",
    "    for x in set(Y_train):\n",
    "        for word in word_list:\n",
    "            try:\n",
    "                score[x] += math.log(condprob[word][x])\n",
    "            except:\n",
    "                continue\n",
    "            \n",
    "    max_key = max(score, key=score.get)\n",
    "    Y_pred.append(max_key)\n",
    "            "
   ]
  },
  {
   "cell_type": "code",
   "execution_count": 14,
   "metadata": {},
   "outputs": [],
   "source": [
    "count = 0\n",
    "for i in range(len(Y_pred)):\n",
    "    if Y_pred[i] == Y_test[i]:\n",
    "        count+=1\n",
    "accuracy = count/len(Y_pred)"
   ]
  },
  {
   "cell_type": "code",
   "execution_count": 15,
   "metadata": {},
   "outputs": [
    {
     "name": "stdout",
     "output_type": "stream",
     "text": [
      "Our score on testing data : 0.8150073304011729\n"
     ]
    }
   ],
   "source": [
    "print(\"Our score on testing data :\",accuracy)"
   ]
  },
  {
   "cell_type": "code",
   "execution_count": null,
   "metadata": {},
   "outputs": [],
   "source": []
  }
 ],
 "metadata": {
  "kernelspec": {
   "display_name": "Python 3",
   "language": "python",
   "name": "python3"
  },
  "language_info": {
   "codemirror_mode": {
    "name": "ipython",
    "version": 3
   },
   "file_extension": ".py",
   "mimetype": "text/x-python",
   "name": "python",
   "nbconvert_exporter": "python",
   "pygments_lexer": "ipython3",
   "version": "3.6.9"
  }
 },
 "nbformat": 4,
 "nbformat_minor": 2
}
