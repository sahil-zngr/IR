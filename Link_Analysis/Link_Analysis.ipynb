{
 "cells": [
  {
   "cell_type": "code",
   "execution_count": 1,
   "metadata": {},
   "outputs": [],
   "source": [
    "import numpy as np\n",
    "import os\n",
    "import pickle"
   ]
  },
  {
   "cell_type": "code",
   "execution_count": 2,
   "metadata": {},
   "outputs": [],
   "source": [
    "ref_list = pickle.load(open('referencelist.pkl', 'rb'))"
   ]
  },
  {
   "cell_type": "markdown",
   "metadata": {},
   "source": [
    "# Page Rank algorithm"
   ]
  },
  {
   "cell_type": "code",
   "execution_count": 3,
   "metadata": {},
   "outputs": [],
   "source": [
    "def calculate_PageRank(outlinks):\n",
    "    # lambda\n",
    "    lamb = 0.15\n",
    "    \n",
    "\n",
    "    size = outlinks.shape[0]\n",
    "\n",
    "    # list to hold page ranks\n",
    "    page_ranks = [1/size for i in range(size)]\n",
    "\n",
    "    # Calculating the out degree of each node and storing in a list\n",
    "    out_degrees = []\n",
    "    for i in range(size):\n",
    "        sums = 0\n",
    "        for j in range(size):\n",
    "            sums += outlinks[i][j]\n",
    "        out_degrees.append(sums)\n",
    "\n",
    "    for _ in range(100):\n",
    "        for j in range(size):\n",
    "            temp = 0\n",
    "            for i in range(size):\n",
    "                if outlinks[i][j] == 1:\n",
    "                    temp += page_ranks[i] / out_degrees[i]\n",
    "            temp *= (1-lamb)\n",
    "            temp += (lamb/size)\n",
    "            page_ranks[j] = round(temp, 4)\n",
    "\n",
    "    return page_ranks"
   ]
  },
  {
   "cell_type": "code",
   "execution_count": 4,
   "metadata": {},
   "outputs": [],
   "source": [
    "outlinks = pickle.load(open('adjacencymatrix.pkl', 'rb'))"
   ]
  },
  {
   "cell_type": "code",
   "execution_count": 5,
   "metadata": {
    "scrolled": true
   },
   "outputs": [],
   "source": [
    "page_ranks = calculate_PageRank(outlinks)"
   ]
  },
  {
   "cell_type": "code",
   "execution_count": 6,
   "metadata": {},
   "outputs": [],
   "source": [
    "page_rank=sorted([(ref_list[i],page_ranks[i]) for i in range(len(page_ranks))])\n",
    "page_rank=sorted(page_rank,key=lambda x:x[1],reverse=True)"
   ]
  },
  {
   "cell_type": "code",
   "execution_count": 18,
   "metadata": {},
   "outputs": [
    {
     "name": "stdout",
     "output_type": "stream",
     "text": [
      "('https://en.wikipedia.org/wiki/Cricket', 0.0431)\n",
      "('https://en.wikipedia.org/wiki/International_Cricket_Council', 0.023)\n",
      "('https://en.wikipedia.org/wiki/Test_cricket', 0.0214)\n",
      "('https://en.wikipedia.org/wiki/Wikipedia:Protection_policy', 0.0207)\n",
      "('https://en.wikipedia.org/wiki/Twenty20', 0.0204)\n",
      "('https://en.wikipedia.org/wiki/Cricket_ball', 0.0181)\n",
      "('https://en.wikipedia.org/wiki/Women%27s_Twenty20_International', 0.0172)\n",
      "('https://en.wikipedia.org/wiki/One_Day_International', 0.0166)\n",
      "('https://en.wikipedia.org/wiki/Wicket', 0.0162)\n",
      "('https://en.wikipedia.org/wiki/Women%27s_Test_cricket', 0.0161)\n"
     ]
    }
   ],
   "source": [
    "for i in range(10):\n",
    "    print(page_rank[i])"
   ]
  },
  {
   "cell_type": "markdown",
   "metadata": {},
   "source": [
    "# HITS algorithm\n",
    "query for tf-idf = cricket world cup"
   ]
  },
  {
   "cell_type": "code",
   "execution_count": 8,
   "metadata": {},
   "outputs": [],
   "source": [
    "def authority_hub_score(outlinks, hubs_auth_index):\n",
    "    \n",
    "    size = len(hubs_auth_index)\n",
    "    \n",
    "\n",
    "    hub_scores = [1.0/size for i in range(size)]\n",
    "    authority_scores = [1.0/size for i in range(size)]\n",
    "    \n",
    "    \n",
    "    for _ in range(100):\n",
    "        for jind, j in enumerate(hubs_auth_index):\n",
    "            temp_auth = 0.0\n",
    "            for iind, i in enumerate(hubs_auth_index):\n",
    "                if outlinks[i][j] == 1:\n",
    "                    temp_auth += hub_scores[iind]\n",
    "            authority_scores[jind] = temp_auth\n",
    "\n",
    "\n",
    "        auth_sum = sum(authority_scores)\n",
    "        for i in range(len(authority_scores)):\n",
    "            authority_scores[i] /= auth_sum\n",
    "\n",
    "        for iind, i in enumerate(hubs_auth_index):\n",
    "            temp_hub = 0.0\n",
    "            for jind,j in enumerate(hubs_auth_index):\n",
    "                if outlinks[i][j] == 1:\n",
    "                    temp_hub += authority_scores[jind]\n",
    "            hub_scores[iind] = temp_hub\n",
    "    \n",
    "        hub_sum = sum(hub_scores)\n",
    "        for i in range(len(hub_scores)):\n",
    "            hub_scores[i] /= hub_sum\n",
    "            \n",
    "    return authority_scores, hub_scores"
   ]
  },
  {
   "cell_type": "code",
   "execution_count": 9,
   "metadata": {},
   "outputs": [],
   "source": [
    "outlinks = pickle.load(open('adjacencymatrix.pkl', 'rb'))"
   ]
  },
  {
   "cell_type": "code",
   "execution_count": 10,
   "metadata": {},
   "outputs": [],
   "source": [
    "# contain base set documents after appling Tf-idf model with query(cricket world cup)\n",
    "hubs_auth_index = pickle.load(open('query_hub_auth.pkl', 'rb'))"
   ]
  },
  {
   "cell_type": "code",
   "execution_count": 11,
   "metadata": {},
   "outputs": [],
   "source": [
    "authority_scores, hub_scores = authority_hub_score(outlinks, hubs_auth_index)"
   ]
  },
  {
   "cell_type": "code",
   "execution_count": 12,
   "metadata": {},
   "outputs": [],
   "source": [
    "hub_score=sorted([(ref_list[hubs_auth_index[i]],hub_scores[i]) for i in range(len(hubs_auth_index))])\n",
    "hub_score=sorted(hub_score,key=lambda x:x[1],reverse=True)"
   ]
  },
  {
   "cell_type": "markdown",
   "metadata": {},
   "source": [
    "HUB score \n",
    "(docid, score) descending order"
   ]
  },
  {
   "cell_type": "code",
   "execution_count": 22,
   "metadata": {},
   "outputs": [
    {
     "name": "stdout",
     "output_type": "stream",
     "text": [
      "('https://en.wikipedia.org/wiki/Cricket', 0.035212398485153715)\n",
      "('https://en.wikipedia.org/wiki/Test_cricket', 0.030226559846599877)\n",
      "('https://en.wikipedia.org/wiki/History_of_cricket_to_1725', 0.029723298477211967)\n",
      "('https://en.wikipedia.org/wiki/Twenty20', 0.029466032335733947)\n",
      "('https://en.wikipedia.org/wiki/One_Day_International', 0.0294104298653599)\n",
      "('https://en.wikipedia.org/wiki/Limited_overs_cricket', 0.02939412970732032)\n",
      "('https://en.wikipedia.org/wiki/100-ball_cricket', 0.02915985323989019)\n",
      "('https://en.wikipedia.org/wiki/History_of_cricket_(1772%E2%80%931815)', 0.029156390915217042)\n",
      "('https://en.wikipedia.org/wiki/First-class_cricket', 0.02912724512726092)\n",
      "('https://en.wikipedia.org/wiki/History_of_cricket', 0.029085272148994295)\n"
     ]
    }
   ],
   "source": [
    "for i in range(10):\n",
    "    print(hub_score[i])"
   ]
  },
  {
   "cell_type": "code",
   "execution_count": null,
   "metadata": {},
   "outputs": [],
   "source": []
  },
  {
   "cell_type": "code",
   "execution_count": 23,
   "metadata": {},
   "outputs": [],
   "source": [
    "auth_score=sorted([(ref_list[hubs_auth_index[i]],authority_scores[i]) for i in range(len(hubs_auth_index))])\n",
    "auth_score=sorted(auth_score,key=lambda x:x[1],reverse=True)"
   ]
  },
  {
   "cell_type": "markdown",
   "metadata": {},
   "source": [
    "authority score \n",
    "(docid, score) descending order"
   ]
  },
  {
   "cell_type": "code",
   "execution_count": 24,
   "metadata": {},
   "outputs": [
    {
     "name": "stdout",
     "output_type": "stream",
     "text": [
      "('https://en.wikipedia.org/wiki/Cricket', 0.02425417114947134)\n",
      "('https://en.wikipedia.org/wiki/Test_cricket', 0.021263807644114584)\n",
      "('https://en.wikipedia.org/wiki/One_Day_International', 0.02053739337805246)\n",
      "('https://en.wikipedia.org/wiki/Twenty20_International', 0.02004489060534341)\n",
      "('https://en.wikipedia.org/wiki/Women%27s_One_Day_International', 0.019512855960840184)\n",
      "('https://en.wikipedia.org/wiki/Women%27s_Test_cricket', 0.019341402349387384)\n",
      "('https://en.wikipedia.org/wiki/Women%27s_Twenty20_International', 0.01927341581768351)\n",
      "('https://en.wikipedia.org/wiki/Limited_overs_cricket', 0.018932508009949268)\n",
      "('https://en.wikipedia.org/wiki/Twenty20', 0.01883448986406042)\n",
      "('https://en.wikipedia.org/wiki/First-class_cricket', 0.018796029945375617)\n"
     ]
    }
   ],
   "source": [
    "for i in range(10):\n",
    "    print(auth_score[i])"
   ]
  },
  {
   "cell_type": "markdown",
   "metadata": {},
   "source": [
    "Page rank score \n",
    "(docid, score) descending order"
   ]
  },
  {
   "cell_type": "code",
   "execution_count": 21,
   "metadata": {},
   "outputs": [
    {
     "name": "stdout",
     "output_type": "stream",
     "text": [
      "('https://en.wikipedia.org/wiki/Cricket', 0.0431)\n",
      "('https://en.wikipedia.org/wiki/International_Cricket_Council', 0.023)\n",
      "('https://en.wikipedia.org/wiki/Test_cricket', 0.0214)\n",
      "('https://en.wikipedia.org/wiki/Wikipedia:Protection_policy', 0.0207)\n",
      "('https://en.wikipedia.org/wiki/Twenty20', 0.0204)\n",
      "('https://en.wikipedia.org/wiki/Cricket_ball', 0.0181)\n",
      "('https://en.wikipedia.org/wiki/Women%27s_Twenty20_International', 0.0172)\n",
      "('https://en.wikipedia.org/wiki/One_Day_International', 0.0166)\n",
      "('https://en.wikipedia.org/wiki/Wicket', 0.0162)\n",
      "('https://en.wikipedia.org/wiki/Women%27s_Test_cricket', 0.0161)\n"
     ]
    }
   ],
   "source": [
    "for i in range(10):\n",
    "    print(page_rank[i])"
   ]
  },
  {
   "cell_type": "code",
   "execution_count": null,
   "metadata": {},
   "outputs": [],
   "source": []
  }
 ],
 "metadata": {
  "kernelspec": {
   "display_name": "Python 3",
   "language": "python",
   "name": "python3"
  },
  "language_info": {
   "codemirror_mode": {
    "name": "ipython",
    "version": 3
   },
   "file_extension": ".py",
   "mimetype": "text/x-python",
   "name": "python",
   "nbconvert_exporter": "python",
   "pygments_lexer": "ipython3",
   "version": "3.6.9"
  }
 },
 "nbformat": 4,
 "nbformat_minor": 2
}
