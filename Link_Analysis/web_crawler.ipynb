{
 "cells": [
  {
   "cell_type": "code",
   "execution_count": 78,
   "metadata": {},
   "outputs": [],
   "source": [
    "from html.parser import HTMLParser  \n",
    "from urllib.parse import urljoin, urlparse        \n",
    "from urllib.request import urlopen\n",
    "import re\n",
    "import pickle\n",
    "import numpy as np"
   ]
  },
  {
   "cell_type": "code",
   "execution_count": 71,
   "metadata": {},
   "outputs": [],
   "source": [
    "def clean(url):\n",
    "    if url[0:4] != \"http\":\n",
    "        url = \"http://\" + url\n",
    "\n",
    "    idx = url.find('#')\n",
    "    if idx != -1:\n",
    "        url = url[:idx]\n",
    "        \n",
    "    l = len(url)\n",
    "    if url[l - 1] == '/':\n",
    "        url = url[:l - 1]\n",
    "\n",
    "    return url\n",
    "\n",
    "\n",
    "def get_domain(url):\n",
    "    \n",
    "    parsed_url = urlparse(url)\n",
    "    return \"{url.netloc}\".format(url=parsed_url)\n",
    "\n",
    "\n",
    "def valid(url, domain):\n",
    "    \n",
    "    if re.match(r'^https?://([\\w-]*\\.)?' + domain + r'.*$', url, re.M|re.I):\n",
    "        return True\n",
    "    else:\n",
    "        return False\n",
    "\n",
    "\n",
    "def contain_static(val):\n",
    "    if re.match(r'^.*\\.(jpg|jpeg|gif|png|css|js|ico|xml|rss|txt|exe|pdf).*$', val, re.M|re.I):\n",
    "        return True\n",
    "    else:\n",
    "        return False"
   ]
  },
  {
   "cell_type": "code",
   "execution_count": 72,
   "metadata": {},
   "outputs": [],
   "source": [
    "class HTMLParser(HTMLParser):\n",
    "    \n",
    "    def handle_starttag(self, tag, attrs):\n",
    "        for key, val in attrs:\n",
    "            if key == \"href\":\n",
    "                if contain_static(val):             \n",
    "                    continue                 \n",
    "                elif tag == \"a\":                    \n",
    "                    url = urljoin(self.url, val)    \n",
    "                    url = clean(url)                \n",
    "                    if valid(url, self.domain):\n",
    "                        self.urls.append(url)       \n",
    "                else:\n",
    "                    pass\n",
    "\n",
    "\n",
    "    def run(self, url):\n",
    "        '''\n",
    "        Run the parser and return links in this page\n",
    "        '''\n",
    "        self.url = url                  \n",
    "        self.domain = get_domain(url)  \n",
    "        self.urls = []                  \n",
    "        global count\n",
    "        \n",
    "        try:\n",
    "            response = urlopen(url)                 \n",
    "            html = response.read().decode(\"utf-8\") \n",
    "            f = open('webdocs/'+str(count)+'.html', 'w')\n",
    "            f.write(html)\n",
    "            f.close\n",
    "            self.feed(html)                         \n",
    "        except KeyboardInterrupt:                   \n",
    "            exit()\n",
    "        except:\n",
    "            print(\"Unexpected failure happens and the spider escapes.\")\n",
    "\n",
    "        return self.urls"
   ]
  },
  {
   "cell_type": "code",
   "execution_count": 73,
   "metadata": {},
   "outputs": [],
   "source": [
    "class Crawler(object):\n",
    "    def __init__(self):\n",
    "        self.to_visit = []\n",
    "        self.visted = set([])\n",
    "        self.parser = HTMLParser()\n",
    "\n",
    "    def crawl(self, target_url):\n",
    "        global count\n",
    "        target_url = clean(target_url)     \n",
    "        self.to_visit.append(target_url)    \n",
    "        reflist = []\n",
    "        adjdict = {}\n",
    "\n",
    "        while len(self.to_visit) > 0:\n",
    "            url = self.to_visit.pop(0)      \n",
    "            print(\"The Crawler is visiting:\", url)\n",
    "            urls = self.parser.run(url)     \n",
    "            self.visted.add(url)\n",
    "            reflist.append(url)\n",
    "            adjdict[url] = set([])\n",
    "            if(count==99):\n",
    "                print(\"The Crawler has finished crawling the web at {url}\".format(url=target_url))\n",
    "                return reflist , adjdict\n",
    "            count+=1\n",
    "\n",
    "            \n",
    "            \n",
    "            for ur in urls:\n",
    "                adjdict[url].add(ur)\n",
    "                if ur not in self.visted and ur not in self.to_visit:\n",
    "                    self.to_visit.append(ur)\n",
    "        \n",
    "                    "
   ]
  },
  {
   "cell_type": "code",
   "execution_count": 74,
   "metadata": {},
   "outputs": [],
   "source": [
    "webcraw = Crawler()"
   ]
  },
  {
   "cell_type": "code",
   "execution_count": 75,
   "metadata": {},
   "outputs": [],
   "source": [
    "count = 0\n",
    "seedpage = \"https://en.wikipedia.org/wiki/Cricket\""
   ]
  },
  {
   "cell_type": "code",
   "execution_count": 76,
   "metadata": {},
   "outputs": [
    {
     "name": "stdout",
     "output_type": "stream",
     "text": [
      "The Crawler is visiting: https://en.wikipedia.org/wiki/Cricket\n",
      "The Crawler is visiting: https://en.wikipedia.org/wiki/Wikipedia:Protection_policy\n",
      "The Crawler is visiting: https://en.wikipedia.org/wiki/Cricket_(insect)\n",
      "The Crawler is visiting: https://en.wikipedia.org/wiki/Cricket_(disambiguation)\n",
      "The Crawler is visiting: https://en.wikipedia.org/wiki/Cricketer_(disambiguation)\n",
      "The Crawler is visiting: https://en.wikipedia.org/wiki/Eden_Gardens\n",
      "The Crawler is visiting: https://en.wikipedia.org/wiki/2016_ICC_World_Twenty20_Final\n",
      "The Crawler is visiting: https://en.wikipedia.org/wiki/Sports_governing_body\n",
      "The Crawler is visiting: https://en.wikipedia.org/wiki/International_Cricket_Council\n",
      "The Crawler is visiting: https://en.wikipedia.org/wiki/Contact_sport\n",
      "The Crawler is visiting: https://en.wikipedia.org/wiki/Substitute_(cricket)\n",
      "The Crawler is visiting: https://en.wikipedia.org/wiki/Mixed-sex_sports\n",
      "The Crawler is visiting: https://en.wikipedia.org/wiki/Team_sport\n",
      "The Crawler is visiting: https://en.wikipedia.org/wiki/Bat-and-ball_games\n",
      "The Crawler is visiting: https://en.wikipedia.org/wiki/Cricket_ball\n",
      "The Crawler is visiting: https://en.wikipedia.org/wiki/Cricket_bat\n",
      "The Crawler is visiting: https://en.wikipedia.org/wiki/Wicket\n",
      "The Crawler is visiting: https://en.wikipedia.org/wiki/Stump_(cricket)\n",
      "The Crawler is visiting: https://en.wikipedia.org/wiki/Bail_(cricket)\n",
      "The Crawler is visiting: https://en.wikipedia.org/wiki/Cricket_clothing_and_equipment\n",
      "The Crawler is visiting: https://en.wikipedia.org/wiki/Cricket_field\n",
      "The Crawler is visiting: https://en.wikipedia.org/wiki/Glossary_of_cricket_terms\n",
      "The Crawler is visiting: https://en.wikipedia.org/wiki/Commonwealth_of_Nations\n",
      "The Crawler is visiting: https://en.wikipedia.org/wiki/British_Overseas_Territories\n",
      "The Crawler is visiting: https://en.wikipedia.org/wiki/South_Asia\n",
      "The Crawler is visiting: https://en.wikipedia.org/wiki/Olympic_Games\n",
      "The Crawler is visiting: https://en.wikipedia.org/wiki/1900_Summer_Olympics\n",
      "The Crawler is visiting: https://en.wikipedia.org/wiki/Category:Cricket\n",
      "The Crawler is visiting: https://en.wikipedia.org/wiki/File:Cricket_-_The_Noun_Project.svg\n",
      "The Crawler is visiting: https://en.wikipedia.org/wiki/Forms_of_cricket\n",
      "The Crawler is visiting: https://en.wikipedia.org/wiki/Test_cricket\n",
      "The Crawler is visiting: https://en.wikipedia.org/wiki/Women%27s_Test_cricket\n",
      "The Crawler is visiting: https://en.wikipedia.org/wiki/First-class_cricket\n",
      "The Crawler is visiting: https://en.wikipedia.org/wiki/Women%27s_cricket\n",
      "The Crawler is visiting: https://en.wikipedia.org/wiki/One_Day_International\n",
      "The Crawler is visiting: https://en.wikipedia.org/wiki/Women%27s_One_Day_International\n",
      "The Crawler is visiting: https://en.wikipedia.org/wiki/Limited_overs_cricket\n",
      "The Crawler is visiting: https://en.wikipedia.org/wiki/List_A_cricket\n",
      "The Crawler is visiting: https://en.wikipedia.org/wiki/Twenty20_International\n",
      "The Crawler is visiting: https://en.wikipedia.org/wiki/Women%27s_Twenty20_International\n",
      "The Crawler is visiting: https://en.wikipedia.org/wiki/Twenty20\n",
      "The Crawler is visiting: https://en.wikipedia.org/wiki/Women%27s_Twenty20_cricket\n",
      "The Crawler is visiting: https://en.wikipedia.org/wiki/T10_cricket\n",
      "The Crawler is visiting: https://en.wikipedia.org/wiki/100-ball_cricket\n",
      "The Crawler is visiting: https://en.wikipedia.org/wiki/Single_wicket_cricket\n",
      "The Crawler is visiting: https://en.wikipedia.org/wiki/Indoor_cricket\n",
      "The Crawler is visiting: https://en.wikipedia.org/wiki/Indoor_cricket_(UK_variant)\n",
      "The Crawler is visiting: https://en.wikipedia.org/wiki/Blind_cricket\n",
      "The Crawler is visiting: https://en.wikipedia.org/wiki/Club_cricket\n",
      "The Crawler is visiting: https://en.wikipedia.org/wiki/Village_cricket\n",
      "The Crawler is visiting: https://en.wikipedia.org/wiki/Street_cricket\n",
      "The Crawler is visiting: https://en.wikipedia.org/wiki/French_cricket\n",
      "The Crawler is visiting: https://en.wikipedia.org/wiki/Crocker_(sport)\n",
      "The Crawler is visiting: https://en.wikipedia.org/wiki/Vigoro\n",
      "The Crawler is visiting: https://en.wikipedia.org/wiki/Plaquita\n",
      "The Crawler is visiting: https://en.wikipedia.org/wiki/Bete-ombro\n",
      "The Crawler is visiting: https://en.wikipedia.org/wiki/Kilikiti\n",
      "The Crawler is visiting: https://en.wikipedia.org/wiki/ICC_World_Test_Championship\n",
      "The Crawler is visiting: https://en.wikipedia.org/wiki/ICC_Test_Championship\n",
      "The Crawler is visiting: https://en.wikipedia.org/wiki/Cricket_World_Cup\n",
      "The Crawler is visiting: https://en.wikipedia.org/wiki/Women%27s_Cricket_World_Cup\n",
      "The Crawler is visiting: https://en.wikipedia.org/wiki/ICC_Men%27s_T20_World_Cup\n",
      "The Crawler is visiting: https://en.wikipedia.org/wiki/ICC_Women%27s_T20_World_Cup\n",
      "The Crawler is visiting: https://en.wikipedia.org/wiki/ICC_Cricket_World_Cup_League_2\n",
      "The Crawler is visiting: https://en.wikipedia.org/wiki/ICC_Cricket_World_Cup_Challenge_League\n",
      "The Crawler is visiting: https://en.wikipedia.org/wiki/Euro_T20_Slam\n",
      "The Crawler is visiting: https://en.wikipedia.org/wiki/East_Africa_Premier_League\n",
      "The Crawler is visiting: https://en.wikipedia.org/wiki/World_Cricket_League_Africa_Region\n",
      "The Crawler is visiting: https://en.wikipedia.org/wiki/History_of_cricket\n",
      "The Crawler is visiting: https://en.wikipedia.org/wiki/History_of_cricket_to_1725\n",
      "The Crawler is visiting: https://en.wikipedia.org/wiki/History_of_cricket_(1726%E2%80%931771)\n",
      "The Crawler is visiting: https://en.wikipedia.org/wiki/History_of_cricket_(1772%E2%80%931815)\n",
      "The Crawler is visiting: https://en.wikipedia.org/wiki/Template:Cricket_sidebar\n",
      "The Crawler is visiting: https://en.wikipedia.org/wiki/Template_talk:Cricket_sidebar\n",
      "The Crawler is visiting: https://en.wikipedia.org/w/index.php?title=Template:Cricket_sidebar&action=edit\n",
      "The Crawler is visiting: https://en.wikipedia.org/wiki/Category:Bowling_(cricket)\n",
      "The Crawler is visiting: https://en.wikipedia.org/wiki/Bowling_(cricket)\n",
      "The Crawler is visiting: https://en.wikipedia.org/wiki/Fast_bowling\n",
      "The Crawler is visiting: https://en.wikipedia.org/wiki/Seam_bowling\n",
      "The Crawler is visiting: https://en.wikipedia.org/wiki/Swing_bowling\n",
      "The Crawler is visiting: https://en.wikipedia.org/wiki/Spin_bowling\n",
      "The Crawler is visiting: https://en.wikipedia.org/wiki/Finger_spin\n",
      "The Crawler is visiting: https://en.wikipedia.org/wiki/Off_spin\n",
      "The Crawler is visiting: https://en.wikipedia.org/wiki/Left-arm_orthodox_spin\n",
      "The Crawler is visiting: https://en.wikipedia.org/wiki/Wrist_spin\n",
      "The Crawler is visiting: https://en.wikipedia.org/wiki/Leg_spin\n",
      "The Crawler is visiting: https://en.wikipedia.org/wiki/Left-arm_unorthodox_spin\n",
      "The Crawler is visiting: https://en.wikipedia.org/wiki/Delivery_(cricket)\n",
      "The Crawler is visiting: https://en.wikipedia.org/wiki/Bouncer_(cricket)\n",
      "The Crawler is visiting: https://en.wikipedia.org/wiki/Inswinger\n",
      "The Crawler is visiting: https://en.wikipedia.org/wiki/Knuckle_ball_(cricket)\n",
      "The Crawler is visiting: https://en.wikipedia.org/wiki/Leg_cutter\n",
      "The Crawler is visiting: https://en.wikipedia.org/wiki/Off_cutter\n",
      "The Crawler is visiting: https://en.wikipedia.org/wiki/Outswinger\n",
      "The Crawler is visiting: https://en.wikipedia.org/wiki/Reverse_swing\n",
      "The Crawler is visiting: https://en.wikipedia.org/wiki/Slower_ball\n",
      "The Crawler is visiting: https://en.wikipedia.org/wiki/Yorker\n",
      "The Crawler is visiting: https://en.wikipedia.org/wiki/Arm_ball\n",
      "The Crawler is visiting: https://en.wikipedia.org/wiki/Carrom_ball\n",
      "The Crawler is visiting: https://en.wikipedia.org/wiki/Doosra\n",
      "The Crawler has finished crawling the web at https://en.wikipedia.org/wiki/Cricket\n"
     ]
    }
   ],
   "source": [
    "reflist , adjdict = webcraw.crawl(seedpage)"
   ]
  },
  {
   "cell_type": "code",
   "execution_count": 83,
   "metadata": {},
   "outputs": [],
   "source": [
    "size = len(reflist)"
   ]
  },
  {
   "cell_type": "code",
   "execution_count": 100,
   "metadata": {},
   "outputs": [],
   "source": [
    "adjmat  = np.zeros((size,size)) "
   ]
  },
  {
   "cell_type": "code",
   "execution_count": 101,
   "metadata": {},
   "outputs": [],
   "source": [
    "for i, rt in enumerate(reflist):\n",
    "    for j, out in enumerate(reflist):\n",
    "        if out in adjdict[rt]:\n",
    "            adjmat[i][j] = 1"
   ]
  },
  {
   "cell_type": "code",
   "execution_count": 102,
   "metadata": {},
   "outputs": [
    {
     "name": "stdout",
     "output_type": "stream",
     "text": [
      "saving web page reference list\n",
      "\n"
     ]
    }
   ],
   "source": [
    "print(\"saving web page reference list\\n\")\n",
    "with open( \"referencelist\" + '.pkl', 'wb') as f:\n",
    "        pickle.dump(reflist, f, pickle.HIGHEST_PROTOCOL)"
   ]
  },
  {
   "cell_type": "code",
   "execution_count": 103,
   "metadata": {},
   "outputs": [
    {
     "name": "stdout",
     "output_type": "stream",
     "text": [
      "saving adjacency matrix\n",
      "\n"
     ]
    }
   ],
   "source": [
    "print(\"saving adjacency matrix\\n\")\n",
    "with open( \"adjacencymatrix\" + '.pkl', 'wb') as f:\n",
    "        pickle.dump(adjmat, f, pickle.HIGHEST_PROTOCOL)"
   ]
  },
  {
   "cell_type": "code",
   "execution_count": null,
   "metadata": {},
   "outputs": [],
   "source": []
  }
 ],
 "metadata": {
  "kernelspec": {
   "display_name": "Python 3",
   "language": "python",
   "name": "python3"
  },
  "language_info": {
   "codemirror_mode": {
    "name": "ipython",
    "version": 3
   },
   "file_extension": ".py",
   "mimetype": "text/x-python",
   "name": "python",
   "nbconvert_exporter": "python",
   "pygments_lexer": "ipython3",
   "version": "3.6.9"
  }
 },
 "nbformat": 4,
 "nbformat_minor": 2
}
