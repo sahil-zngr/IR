{
 "cells": [
  {
   "cell_type": "code",
   "execution_count": 126,
   "metadata": {},
   "outputs": [],
   "source": [
    "import pickle,sys\n",
    "from nltk import PorterStemmer\n",
    "from math import sqrt as sqrt\n",
    "from collections import defaultdict\n",
    "import codecs\n",
    "import re\n",
    "import math\n",
    "import functools\n",
    "import pickle"
   ]
  },
  {
   "cell_type": "code",
   "execution_count": 127,
   "metadata": {},
   "outputs": [],
   "source": [
    "postingdict = defaultdict(dict)"
   ]
  },
  {
   "cell_type": "code",
   "execution_count": 128,
   "metadata": {},
   "outputs": [],
   "source": [
    "with open(\"postinglist.pkl\",\"rb\") as f:\n",
    "    postingdict = pickle.load(f)"
   ]
  },
  {
   "cell_type": "code",
   "execution_count": 129,
   "metadata": {},
   "outputs": [],
   "source": [
    "total = len(postingdict)"
   ]
  },
  {
   "cell_type": "code",
   "execution_count": null,
   "metadata": {},
   "outputs": [],
   "source": []
  },
  {
   "cell_type": "code",
   "execution_count": 130,
   "metadata": {},
   "outputs": [],
   "source": [
    "doc_n = 100"
   ]
  },
  {
   "cell_type": "code",
   "execution_count": 131,
   "metadata": {},
   "outputs": [],
   "source": [
    "def idfcal(token):\n",
    "\tidf=0.0\n",
    "\tif(token in postingdict):\n",
    "\t\tidf=math.log(doc_n/(len(postingdict[token])+1),10)\n",
    "\treturn(idf)"
   ]
  },
  {
   "cell_type": "code",
   "execution_count": 132,
   "metadata": {},
   "outputs": [],
   "source": [
    "def twcal(token,docid):\n",
    "\ttw=0.0\n",
    "\tif(docid in postingdict[token]):\n",
    "\t\tidf=idfcal(token)\n",
    "\t\ttf=1+math.log(postingdict[token][docid])\n",
    "\t\ttw=tf*idf\n",
    "\treturn(tw)"
   ]
  },
  {
   "cell_type": "code",
   "execution_count": 133,
   "metadata": {},
   "outputs": [],
   "source": [
    "def create_length_doc():\n",
    "    length_doc = {}\n",
    "    for docid in range(doc_n):\n",
    "        l=0\n",
    "        for token in postingdict.keys():\n",
    "            tw=twcal(token,docid)\n",
    "            l=l+(tw**2)\n",
    "        length_doc[docid]=math.sqrt(l)\n",
    "    return length_doc\n",
    "# length_doc = create_length_doc()"
   ]
  },
  {
   "cell_type": "code",
   "execution_count": 134,
   "metadata": {},
   "outputs": [],
   "source": [
    "# with open( \"engdoclen\" + '.pkl', 'wb') as f:\n",
    "#         pickle.dump(length_doc, f, pickle.HIGHEST_PROTOCOL)"
   ]
  },
  {
   "cell_type": "code",
   "execution_count": 135,
   "metadata": {},
   "outputs": [],
   "source": [
    "length_doc=dict()\n",
    "with open(\"engdoclen.pkl\",\"rb\") as f:\n",
    "    length_doc = pickle.load(f)"
   ]
  },
  {
   "cell_type": "code",
   "execution_count": 136,
   "metadata": {},
   "outputs": [],
   "source": [
    "def cosine(query,docid):\n",
    "\tsc=0\n",
    "\tfor token in query:\n",
    "\t\tif token in postingdict.keys():\n",
    "\t\t\ttw=twcal(token,docid)\n",
    "\t\t\tsc=sc + (tw)\n",
    "\tsc=sc/(length_doc[docid])\n",
    "\treturn(sc)"
   ]
  },
  {
   "cell_type": "code",
   "execution_count": 137,
   "metadata": {},
   "outputs": [],
   "source": [
    "def isStopword(word):\n",
    "    f=codecs.open('en.stopword.txt','r',encoding=\"utf-8\")\n",
    "    stopwords = f.read().split(\"\\n\")\n",
    "    #print(stopwords)\n",
    "    return True if (word.lower() in stopwords) else False"
   ]
  },
  {
   "cell_type": "code",
   "execution_count": 138,
   "metadata": {},
   "outputs": [],
   "source": [
    "def proc_query(qry):\n",
    "    query=qry.split(\" \")\n",
    "    docset_of_terms=[]\n",
    "    stemmer=PorterStemmer()\n",
    "    \n",
    "    for tokenword in query:\n",
    "        tokenword = stemmer.stem(tokenword.lower())\n",
    "        docset_of_terms.append( set(postingdict[tokenword].keys()) )\n",
    "    relevant_docs = functools.reduce(set.union,[l for l in docset_of_terms])\n",
    "    \n",
    "    if not relevant_docs:\n",
    "        print(\"Error : No relevant documents found for the query\\n\")\n",
    "        return\n",
    "    else:\n",
    "        score=sorted([(docid,cosine(query,docid)) for docid in relevant_docs])\n",
    "        score=sorted(score,key=lambda x:x[1],reverse=True)\n",
    "        return score"
   ]
  },
  {
   "cell_type": "code",
   "execution_count": 139,
   "metadata": {
    "scrolled": false
   },
   "outputs": [
    {
     "name": "stdout",
     "output_type": "stream",
     "text": [
      "60 --- 0.10302524629694818\n",
      "61 --- 0.09218378970193572\n",
      "70 --- 0.08914152559343162\n",
      "31 --- 0.07758772411361396\n",
      "36 --- 0.057543511755790686\n",
      "90 --- 0.05388312560921563\n",
      "43 --- 0.0528002730387565\n",
      "28 --- 0.04821361449114888\n",
      "52 --- 0.04790462914465872\n"
     ]
    }
   ],
   "source": [
    "ans=proc_query('cricket world cup')\n",
    "for doc in ans[:9]:\n",
    "    print(str(doc[0]) + \" --- \" + str(doc[1]) )"
   ]
  },
  {
   "cell_type": "code",
   "execution_count": 140,
   "metadata": {},
   "outputs": [],
   "source": [
    "hub = []\n",
    "auth = []\n",
    "for doc in ans[:10]:\n",
    "    hub.append(doc[0])\n",
    "    auth.append(doc[0])"
   ]
  },
  {
   "cell_type": "code",
   "execution_count": 141,
   "metadata": {},
   "outputs": [],
   "source": [
    "outlinks = pickle.load(open('adjacencymatrix.pkl', 'rb'))"
   ]
  },
  {
   "cell_type": "code",
   "execution_count": 142,
   "metadata": {},
   "outputs": [],
   "source": [
    "for i in hub:\n",
    "    for j in range(100):\n",
    "            if (outlinks[i][j] == 1 or outlinks[j][i] == 1) and j not in auth:\n",
    "                auth.append(j)"
   ]
  },
  {
   "cell_type": "code",
   "execution_count": 143,
   "metadata": {},
   "outputs": [
    {
     "name": "stdout",
     "output_type": "stream",
     "text": [
      "saving query induced graph hub and auth pages list query = cricket world cup\n",
      "\n"
     ]
    }
   ],
   "source": [
    "print(\"saving query induced graph hub and auth pages list query = cricket world cup\\n\")\n",
    "with open( \"query_hub_auth\" + '.pkl', 'wb') as f:\n",
    "        pickle.dump(auth, f, pickle.HIGHEST_PROTOCOL)"
   ]
  },
  {
   "cell_type": "code",
   "execution_count": null,
   "metadata": {},
   "outputs": [],
   "source": []
  }
 ],
 "metadata": {
  "kernelspec": {
   "display_name": "Python 3",
   "language": "python",
   "name": "python3"
  },
  "language_info": {
   "codemirror_mode": {
    "name": "ipython",
    "version": 3
   },
   "file_extension": ".py",
   "mimetype": "text/x-python",
   "name": "python",
   "nbconvert_exporter": "python",
   "pygments_lexer": "ipython3",
   "version": "3.6.9"
  }
 },
 "nbformat": 4,
 "nbformat_minor": 2
}
